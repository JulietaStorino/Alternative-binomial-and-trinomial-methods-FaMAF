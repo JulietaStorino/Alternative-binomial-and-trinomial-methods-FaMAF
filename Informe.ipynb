{
 "cells": [
  {
   "cell_type": "markdown",
   "metadata": {},
   "source": [
    "**Modelos Matemáticos en Finanzas Cuantitativas - Segundo cuatrimestre de 2024 - U.N.C**\n",
    "**Alumnos: Roland Victor Martínez King - Julieta Paola Storino**\n"
   ]
  }
 ],
 "metadata": {
  "language_info": {
   "name": "python"
  }
 },
 "nbformat": 4,
 "nbformat_minor": 2
}
