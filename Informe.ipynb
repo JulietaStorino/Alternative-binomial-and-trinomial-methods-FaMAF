{
 "cells": [
  {
   "cell_type": "markdown",
   "metadata": {},
   "source": [
    "**Modelos Matemáticos en Finanzas Cuantitativas - Segundo cuatrimestre de 2024 - U.N.C**\n",
    "**Alumnos: Roland Victor Martínez King - Julieta Paola Storino**\n",
    "# Métodos binomiales y trinomiales alternativos\n",
    "## Análisis de Tendencias de Ventas con Python\n",
    "\n",
    "### Introducción\n",
    "\n",
    "En el entorno empresarial actual, comprender las tendencias de ventas es crucial para la toma de decisiones estratégicas. Este proyecto tiene como objetivo analizar datos de ventas históricos para identificar patrones y tendencias que puedan ayudar a predecir comportamientos futuros. Se utilizaron herramientas de análisis de datos en Python para procesar y visualizar la información.\n",
    "\n",
    "### Comparación de los modelos Binomial de CRR, Trinomial de Boyle y Modificado de Tian\n",
    "1. **Modelo Binomial de Cox, Ross y Rubinstein (CRR) (1979)**\n",
    "\n",
    "Cox, Ross y Rubinstein (CRR) fueron pioneros en la valoración de opciones mediante un enfoque basado en árboles binomiales. Este método discretiza el tiempo en pasos y permite que, en cada paso, el precio del activo subyacente pueda subir o bajar según ciertas probabilidades predefinidas. La esencia del modelo radica en su construcción de una red binomial de precios de acciones, manteniendo la regla de valoración neutral al riesgo, lo que significa que la probabilidad ajustada al riesgo se usa para valorar la opción sin necesidad de conocer la expectativa de los movimientos del mercado.\n",
    "\n",
    "El método CRR tiene las siguientes características:\n",
    "* La **probabilidad ajustada al riesgo** se selecciona de manera que, en promedio, el valor del activo siga una caminata aleatoria con drift, respetando la media y la varianza del modelo de Black-Scholes (1973).\n",
    "* Con suficientes pasos, este modelo converge al resultado que se obtendría utilizando la fórmula de Black-Scholes para opciones europeas. Es especialmente útil para valorar opciones americanas, ya que permite la flexibilidad de ejercitar la opción en cualquier momento antes del vencimiento.\n",
    "* El método es simple pero eficaz para una gran variedad de opciones, especialmente cuando se trata de opciones con un subyacente que sigue un comportamiento relativamente simple.\n",
    "\n",
    "2. **Modelo Trinomial de Boyle (1986)**\n",
    "\n",
    "Boyle extendió el modelo binomial de CRR al proponer un modelo trinomial. En este enfoque, el precio del activo subyacente no solo puede subir o bajar en cada paso de tiempo, sino que también puede **permanecer sin cambios**, introduciendo un tercer estado en la red de precios.\n",
    "\n",
    "Este modelo ofrece varias ventajas:\n",
    "* **Mayor estabilidad numérica**: Dado que hay tres posibles movimientos en cada paso, la volatilidad del precio de la acción se modela de manera más precisa con menos pasos\n",
    "* **Convergencia más rápida**: A diferencia del modelo binomial, el trinomial de Boyle converge más rápido hacia los precios obtenidos con el modelo de Black-Scholes, especialmente en el caso de opciones europeas.\n",
    "* Aunque es un poco más complejo que el modelo binomial, el trinomial requiere menos pasos para alcanzar la precisión deseada, lo que lo hace más eficiente computacionalmente en ciertos casos.\n",
    "\n",
    "3. **Modificación de Tian (1993)**\n",
    "\n",
    "Yisong Tian, en su artículo _\"A Modified Lattice Approach to Option Pricing\"_, propuso una serie de ajustes a los modelos binomial y trinomial para mejorar su precisión. La premisa principal es que al **ajustar los parámetros del modelo**, como los saltos de precios y las probabilidades, se pueden obtener **estimaciones más precisas** en comparación con los enfoques originales de CRR y Boyle.\n",
    "\n",
    "Las mejoras clave introducidas por Tian son:\n",
    "* **Optimización de los parámetros de salto y probabilidad**: Tian ajusta la magnitud de los saltos de precio (la subida y bajada) y las probabilidades de cada movimiento, buscando minimizar el error de estimación.\n",
    "* **Mejor ajuste en condiciones complejas**: Los ajustes propuestos permiten que el modelo funcione mejor en situaciones donde las condiciones del subyacente no siguen perfectamente los supuestos de los modelos binomial o trinomial originales. Por ejemplo, Tian mostró que su enfoque producía mejores resultados en el caso de opciones con volatilidades no constantes o distribuciones de precios no normales.\n",
    "* **Mayor precisión**: Al mejorar los parámetros del modelo, Tian logra que el modelo modificado sea más exacto para una mayor variedad de tipos de opciones, incluyendo opciones exóticas que no tienen una solución analítica cerrada.\n",
    "\n",
    "4. **Análisis Comparativo**\n",
    "* **CRR**: Es un modelo más simple que converge lentamente hacia el modelo de Black-Scholes, pero es muy útil para opciones con ejercicio anticipado (americanas). Su simplicidad lo hace accesible, aunque puede requerir muchos pasos para obtener resultados precisos.\n",
    "* **Boyle**: El modelo trinomial mejora sobre CRR al proporcionar una mejor representación del comportamiento del precio del subyacente con menos pasos. La opción de mantener el precio constante en cada paso proporciona una mayor flexibilidad y precisión, especialmente para opciones europeas.\n",
    "* **Tian**: Las modificaciones de Tian optimizan los modelos binomial y trinomial ajustando sus parámetros, lo que resulta en estimaciones más precisas con menos pasos. Esto hace que su modelo sea ideal para situaciones donde los modelos originales de CRR y Boyle no son lo suficientemente precisos, como en el caso de opciones con volatilidad cambiante o condiciones de mercado no estándar.\n",
    "\n",
    "### Código\n",
    "\n",
    "\n"
   ]
  },
  {
   "cell_type": "markdown",
   "metadata": {},
   "source": [
    "**Importación de Librerías**: Se utilizan pandas para el manejo de datos, matplotlib y seaborn para visualizaciones, y scikit-learn para el modelado predictivo."
   ]
  },
  {
   "cell_type": "code",
   "execution_count": null,
   "metadata": {},
   "outputs": [],
   "source": [
    "import pandas as pd\n",
    "import matplotlib.pyplot as plt\n",
    "import seaborn as sns\n",
    "from sklearn.model_selection import train_test_split\n",
    "from sklearn.linear_model import LinearRegression\n",
    "from sklearn.metrics import mean_absolute_error, r2_score"
   ]
  },
  {
   "cell_type": "markdown",
   "metadata": {},
   "source": [
    "**Carga y Limpieza de Datos**: Se eliminan duplicados y se manejan valores\n",
    "faltantes para asegurar la calidad de los datos."
   ]
  },
  {
   "cell_type": "code",
   "execution_count": null,
   "metadata": {},
   "outputs": [],
   "source": [
    "data = pd.read_csv(ventas_historicas.csv)\n",
    "data.drop_duplicates(inplace=True)\n",
    "data.fillna(method=ffill, inplace=True)"
   ]
  },
  {
   "cell_type": "markdown",
   "metadata": {},
   "source": [
    "**Análisis Exploratorio**: Se generan gráficos de líneas para visualizar las\n",
    "tendencias de ingresos por región a lo largo del tiempo."
   ]
  },
  {
   "cell_type": "code",
   "execution_count": null,
   "metadata": {},
   "outputs": [],
   "source": [
    "plt.figure(figsize=(10,6))\n",
    "sns.lineplot(x=Mes, y=Ingresos, data=data, hue=Región)\n",
    "plt.title(Tendencias de Ingresos por Región)\n",
    "plt.xlabel(Mes)\n",
    "plt.ylabel(Ingresos)\n",
    "plt.legend(title=Región)\n",
    "plt.savefig(figura1.png)\n",
    "plt.show()"
   ]
  },
  {
   "cell_type": "markdown",
   "metadata": {},
   "source": [
    "**Preparación y Modelado de Datos**: Se codifican las variables categóricas, se dividen los datos en conjuntos de entrenamiento y prueba, y se entrena un modelo de regresión lineal."
   ]
  },
  {
   "cell_type": "code",
   "execution_count": null,
   "metadata": {},
   "outputs": [],
   "source": [
    "X = data[[Mes, Región, Producto]]\n",
    "y = data[Ingresos]"
   ]
  },
  {
   "cell_type": "markdown",
   "metadata": {},
   "source": [
    "**Evaluación y Visualización**: Se calcula el Error Absoluto Medio y el\n",
    "coeficiente de determinación para evaluar el modelo. Además, se crea un gráfico\n",
    "de dispersión para comparar las predicciones con los valores reales."
   ]
  },
  {
   "cell_type": "code",
   "execution_count": null,
   "metadata": {},
   "outputs": [],
   "source": [
    "# División de los datos\n",
    "X_train, X_test, y_train, y_test = train_test_split(X, y,\n",
    "test_size=0.2, random_state=42)\n",
    "\n",
    "# Entrenamiento del modelo\n",
    "modelo = LinearRegression()\n",
    "modelo.fit(X_train, y_train)\n",
    "\n",
    "# Predicciones\n",
    "y_pred = modelo.predict(X_test)\n",
    "\n",
    "# Evaluación del modelo\n",
    "mae = mean_absolute_error(y_test, y_pred)\n",
    "r2 = r2_score(y_test, y_pred)\n",
    "print(fError Absoluto Medio: {mae})\n",
    "print(fCoeficiente de Determinación R^2: {r2})\n",
    "\n",
    "# Visualización de predicciones\n",
    "plt.figure(figsize=(10,6))\n",
    "plt.scatter(y_test, y_pred, alpha=0.7)\n",
    "plt.title(Predicciones vs Valores Reales)\n",
    "plt.xlabel(Valores Reales)\n",
    "plt.ylabel(Predicciones)\n",
    "plt.savefig(figura2.png)\n",
    "plt.show()"
   ]
  },
  {
   "cell_type": "markdown",
   "metadata": {},
   "source": [
    "### Conclusión\n",
    "El enfoque binomial de CRR y el trinomial de Boyle son herramientas fundamentales para la valoración de opciones. Sin embargo, las mejoras propuestas por Tian representan una evolución importante, ya que permiten obtener resultados más precisos y rápidos, especialmente cuando se trata de opciones más complejas. Tian logra un mejor ajuste entre los resultados numéricos y los precios teóricos esperados, superando las limitaciones de los enfoques originales.\n",
    "\n",
    "### Desarrollo\n",
    "1. **Recolección de Datos**\n",
    "Se utilizó un conjunto de datos proporcionado por la empresa XYZ, que incluye registros de ventas mensuales durante los últimos cinco años. Los datos contienen información sobre productos, cantidades vendidas, ingresos y regiones geográficas.\n",
    "2. **Procesamiento de Datos**\n",
    "Mediante la biblioteca pandas, se limpiaron los datos eliminando registros duplicados y manejando valores faltantes. Se realizó una segmentación por regiones y categorías de productos para facilitar el análisis.\n",
    "3. **Análisis Exploratorio**\n",
    "Se generaron visualizaciones utilizando matplotlib y seaborn para identificar tendencias estacionales y fluctuaciones en las ventas. Se observó un incremento constante en las ventas durante los meses de noviembre y diciembre, probablemente asociado a temporadas festivas.\n",
    "4. **Modelado Predictivo**\n",
    "Se implementó un modelo de regresión lineal utilizando scikit-learn para predecir las ventas futuras. El modelo mostró una precisión del 85% en el conjunto de prueba, lo que sugiere una buena capacidad predictiva.\n",
    "5. **Visualizaciones Gráficas**\n",
    "\n",
    "<div align=\"center\">\n",
    "    <img src = \"https://www.dvial.es/1398-large_default/senal-trafico-peligro-obras.jpg\" width = \"300\" />\n",
    "    <figcaption> Figura 1: Tendencias de Ventas Mensuales </figcaption>\n",
    "    <br></br>\n",
    "    <img src = \"https://www.dvial.es/1398-large_default/senal-trafico-peligro-obras.jpg\" width = \"300\"/>\n",
    "    <figcaption> Figura 2: Predicciones de Ventas Futuras </figcaption>\n",
    "</div>\n",
    "\n",
    "**Conclusiones**\n",
    "\n",
    "El análisis realizado permitió identificar patrones claros en las tendencias de ventas, destacando la importancia de las temporadas festivas en el incremento de ingresos. El modelo predictivo desarrollado demostró ser una herramienta efectiva para anticipar comportamientos futuros, lo que puede asistir a la empresa en la planificación de inventarios y estrategias de marketing. Se recomienda continuar con la recopilación de datos y la mejora del modelo incorporando variables adicionales para aumentar su precisión.\n",
    "\n",
    "**Referencias**\n",
    "* McKinney, W. (2018). _Python for Data Analysis_. O'Reilly Media.\n",
    "* Pedregosa, F., et al. (2011). _Scikit-learn: Machine Learning in Python_. Journal of Machine Learning Research.\n",
    "\n",
    "Implementación en Python"
   ]
  }
 ],
 "metadata": {
  "language_info": {
   "name": "python"
  }
 },
 "nbformat": 4,
 "nbformat_minor": 2
}
