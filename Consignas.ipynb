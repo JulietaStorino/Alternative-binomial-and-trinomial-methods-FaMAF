{
 "cells": [
  {
   "cell_type": "markdown",
   "metadata": {},
   "source": [
    "**Modelos Matemáticos en Finanzas Cuantitativas - Segundo cuatrimestre de 2024 - U.N.C**\n",
    "\n",
    "# GUÍA DE TRABAJO ESPECIAL: MÉTODOS BINOMIALES Y TRINOMIALES ALTERNATIVOS\n",
    "Existen diversos procedimientos numéricos en la literatura que permiten valorar, incluyendo la simulación de Monte Carlo, reticulados (árboles) y diferencias finitas. Estos procedimientos no solo son asintóticamente equivalentes al modelo de Black-Scholes cuando se valora opciones europeas, sino que también son capaces de manejar casos más complejos donde no existe una solución en forma cerrada para el valor de una opción.\n",
    "\n",
    "Cox, Ross y Rubinstein (CRR) (1979) fueron pioneros en el enfoque de árboles binomiales. Desarrollaron un enfoque binomial en tiempo discreto para la valoración de opciones. La esencia de su enfoque es la construcción de una red binomial de precios de acciones, donde se mantiene la regla de valoración neutral al riesgo. Con una selección particular de parámetros binomiales, incluyendo probabilidades y saltos, demostraron que el modelo binomial de CRR converge al modelo de Black-Scholes (1973).\n",
    "\n",
    "Boyle (1986) llevó la metodología de CRR un paso más allá y propuso un modelo de valoración de opciones trinomiales, también conocido como un modelo de tres saltos, en el que el precio de la acción puede subir, bajar o permanecer sin cambios en un período de tiempo dado. Yisong Tian propuso en su artículo A Modified Lattice Approach to Option Pricing una serie de ajustes a los parámetros del modelo binomial y del modelo trinomial postulando que estas modificaciones producen mejores estimaciones que los modelos CCR y de Boyle.\n",
    "\n",
    "Se pide estudiar la propuesta de Tian y analizar comparativamente con los modelos binomial  (CCR) y trinomial (Boyle).\n",
    "\n",
    "**Referencias**:\n",
    "* Hull, J. Options, Futures and Other derivatives, Secciones 21.3 y 21.4.\n",
    "* Boyle, P., Broadie, M., & Glasserman, P. (1997). Monte Carlo methods for security pricing. Journal of Economic Dynamics and Control, 21(8-9), 1267–1321. doi:10.1016/s0165-1889(97)00028-6\n",
    "* Tian, Y. A Modified Lattice Approach to Option Pricing . The Journal of Futures Markets, Vol. 13, No. 5, 563-577 (1993)"
   ]
  }
 ],
 "metadata": {
  "language_info": {
   "name": "python"
  }
 },
 "nbformat": 4,
 "nbformat_minor": 2
}
